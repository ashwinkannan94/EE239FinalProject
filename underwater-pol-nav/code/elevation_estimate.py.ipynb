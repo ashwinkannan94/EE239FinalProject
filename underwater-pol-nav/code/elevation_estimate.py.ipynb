{
 "cells": [
  {
   "cell_type": "code",
   "execution_count": 5,
   "metadata": {},
   "outputs": [
    {
     "name": "stderr",
     "output_type": "stream",
     "text": [
      "/Users/adityamantha/anaconda2/lib/python2.7/site-packages/ipykernel_launcher.py:4: DeprecationWarning: `Tracer` is deprecated since version 5.1, directly use `IPython.core.debugger.Pdb.set_trace()`\n",
      "  after removing the cwd from sys.path.\n"
     ]
    },
    {
     "ename": "SyntaxError",
     "evalue": "invalid syntax (polprocess.py, line 182)",
     "output_type": "error",
     "traceback": [
      "\u001b[0;36m  File \u001b[0;32m\"polprocess.py\"\u001b[0;36m, line \u001b[0;32m182\u001b[0m\n\u001b[0;31m    print('{}... '.format(f),end='',flush=True)\u001b[0m\n\u001b[0m                                ^\u001b[0m\n\u001b[0;31mSyntaxError\u001b[0m\u001b[0;31m:\u001b[0m invalid syntax\n"
     ]
    }
   ],
   "source": [
    "'''from pylab import *\n",
    "import h5py, os, sys, traceback\n",
    "from glob import glob\n",
    "from IPython.core.debugger import Tracer; set_trace = Tracer()\n",
    "\n",
    "from polprocess import file_newer, load_cal, process\n",
    "from sunpos import sunpos_az as sunpos, arcdist\n",
    "from simulate import oceanstokes, oceanaop\n",
    "from polarization import *\n",
    "from plot_utils import *\n",
    "from stats_utils import *\n",
    "from geomag.emm import EMMMesh\n",
    "\n",
    "from datetime import datetime, timedelta, timezone\n",
    "import scipy.stats as stats\n",
    "from scipy.optimize import minimize\n",
    "from scipy.spatial import cKDTree as KDTree\n",
    "from geographiclib.geodesic import Geodesic\n",
    "from mpl_toolkits.basemap import Basemap\n",
    "from pint import UnitRegistry\n",
    "import yaml\n",
    "units = UnitRegistry()\n",
    "WGS84 = Geodesic.WGS84\n",
    "\n",
    "from scipy.optimize import minimize\n",
    "import math\n",
    "from simulate import oceanstokes, oceanaop'''"
   ]
  },
  {
   "cell_type": "code",
   "execution_count": 1,
   "metadata": {
    "collapsed": true
   },
   "outputs": [],
   "source": [
    "from scipy.optimize import minimize\n",
    "import math\n",
    "from simulate import oceanstokes, oceanaop\n",
    "\n",
    "pi = math.pi\n",
    "def angle_diff(a1,a2,period=2*pi):\n",
    "    \"\"\"(a1 - a2 + d) % (2*d) - d; d = period/2\"\"\"\n",
    "    d = period/2\n",
    "    return ((a1 - a2 + d) % (period)) - d\n",
    "def sun_pos_error_l1(sun_head,sun_zen,cam_aop,cam_head,cam_pitch,m2):\n",
    "    sim_aop = oceanaop(sun_head,sun_zen,cam_head,cam_pitch,m2)\n",
    "    d = angle_diff(cam_aop,sim_aop,pi)\n",
    "    return (abs(d))\n",
    "\n",
    "sun_pos_error = sun_pos_error_l1\n",
    "def fit_sun_head_to_aop(aop,head,pitch,ridx=1.33,verbose=False):\n",
    "    #fit the sun heading to the data by assuming the sun zenith angle is pi/4:\n",
    "    fit = minimize(sun_pos_error,x0=0,args=(pi/4,aop,head,pitch,ridx),bounds=[(-2*pi,2*pi)],options={'gtol':1e-6})\n",
    "    return fit.x\n",
    "def fit_sun_to_aop(aop,head,pitch,sun_head_guess=None,ridx=1.33,verbose=False,vl=0):\n",
    "    \"\"\"fit_sun_to_aop, find sun position corresponding to aops at different headings & pitches, no time passing\n",
    "    aop: array of AoPs, radians\n",
    "    head: array of headings, radians, same shape as aop\n",
    "    pitch: array of pitchs, radians, same shape as head\n",
    "    ridx: refractive index of water\n",
    "    \"\"\"\n",
    "    v = verbose\n",
    "    #_p(v,vl,'Fitting sun ',end='')\n",
    "    if sun_head_guess is None:\n",
    "        #_p(v,0,'heading to AoP... ',end='',flush=True)\n",
    "        #fit just the heading first to get a good initial point:\n",
    "        sun_head_guess = fit_sun_head_to_aop(aop,head,pitch,ridx)\n",
    "    #_p(v,0,'heading and zenith to AoP... ',end='',flush=True)\n",
    "    #now do both heading & zenith\n",
    "    minfun = lambda x,*args: sun_pos_error(x[0],x[1],*args)\n",
    "    fit = minimize(minfun,x0=(sun_head_guess,pi/4),args=(aop,head,pitch,ridx),bounds=[(-2*pi,2*pi),(.01,pi/2)],options={'gtol':1e-6})\n",
    "    sun_hz = fit.x\n",
    "    #_p(v,0,'DONE',flush=True)\n",
    "    return sun_hz"
   ]
  },
  {
   "cell_type": "code",
   "execution_count": 2,
   "metadata": {},
   "outputs": [
    {
     "data": {
      "text/plain": [
       "array([-1.49659272,  0.78539816])"
      ]
     },
     "execution_count": 2,
     "metadata": {},
     "output_type": "execute_result"
    }
   ],
   "source": [
    "fit_sun_to_aop(1.645,0,1.57079636)"
   ]
  }
 ],
 "metadata": {
  "kernelspec": {
   "display_name": "Python 2",
   "language": "python",
   "name": "python2"
  },
  "language_info": {
   "codemirror_mode": {
    "name": "ipython",
    "version": 2
   },
   "file_extension": ".py",
   "mimetype": "text/x-python",
   "name": "python",
   "nbconvert_exporter": "python",
   "pygments_lexer": "ipython2",
   "version": "2.7.14"
  }
 },
 "nbformat": 4,
 "nbformat_minor": 2
}
