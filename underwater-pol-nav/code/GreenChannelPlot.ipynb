{
 "cells": [
  {
   "cell_type": "code",
   "execution_count": 55,
   "metadata": {},
   "outputs": [
    {
     "name": "stdout",
     "output_type": "stream",
     "text": [
      "(150, 150, 3)\n"
     ]
    }
   ],
   "source": [
    "from PIL import Image\n",
    "import numpy as np\n",
    "import numexpr as ne\n",
    "\n",
    "i0 = Image.open(\"nov_19_cropped_elevation_60_set_2/0_cropped.JPG\")\n",
    "i0 = np.array(i0)\n",
    "i0[:,:,0] *=0\n",
    "i0[:,:,2] *=0\n",
    "\n",
    "i45 = Image.open(\"nov_19_cropped_elevation_60_set_2/45_cropped.JPG\")\n",
    "i45 = np.array(i45)\n",
    "i45[:,:,0] *=0\n",
    "i45[:,:,2] *=0\n",
    "\n",
    "i90 = Image.open(\"nov_19_cropped_elevation_60_set_2/90_cropped.JPG\")\n",
    "i90 = np.array(i90)\n",
    "i90[:,:,0] *=0\n",
    "i90[:,:,2] *=0\n",
    "\n",
    "i135 = Image.open(\"nov_19_cropped_elevation_60_set_2/135_cropped.JPG\")\n",
    "i135 = np.array(i135)\n",
    "i135[:,:,0] *=0\n",
    "i135[:,:,2] *=0\n",
    "\n",
    "i0 = i0[...,1]\n",
    "i45 = i45[...,1]\n",
    "i90 = i90[...,1]\n",
    "i135 = i135[...,1]\n",
    "\n",
    "\n",
    "s = np.ndarray(i0.shape + (3,))\n",
    "s[...,0] = ne.evaluate('(i0+i90+i45+i135)/2')\n",
    "s[...,1] = ne.evaluate('i0-i90')\n",
    "s[...,2] = ne.evaluate('i45-i135')\n",
    "\n",
    "print(s.shape)"
   ]
  },
  {
   "cell_type": "code",
   "execution_count": 56,
   "metadata": {},
   "outputs": [
    {
     "name": "stdout",
     "output_type": "stream",
     "text": [
      "1.74800750761\n",
      "0.0857480432784\n"
     ]
    }
   ],
   "source": [
    "from utils import wrap\n",
    "from polarization import Stokes\n",
    "\n",
    "s_average = np.average(s,axis = (0,1))\n",
    "\n",
    "a = wrap(Stokes.aop(s_average, -1), 0, np.pi)\n",
    "p = Stokes.dolp(s_average, -1)\n",
    "\n",
    "print(a)\n",
    "print(p)"
   ]
  },
  {
   "cell_type": "code",
   "execution_count": 23,
   "metadata": {},
   "outputs": [
    {
     "name": "stdout",
     "output_type": "stream",
     "text": [
      "(100, 100, 3)\n"
     ]
    }
   ],
   "source": []
  },
  {
   "cell_type": "code",
   "execution_count": null,
   "metadata": {
    "collapsed": true
   },
   "outputs": [],
   "source": []
  }
 ],
 "metadata": {
  "kernelspec": {
   "display_name": "Python 2",
   "language": "python",
   "name": "python2"
  },
  "language_info": {
   "codemirror_mode": {
    "name": "ipython",
    "version": 2
   },
   "file_extension": ".py",
   "mimetype": "text/x-python",
   "name": "python",
   "nbconvert_exporter": "python",
   "pygments_lexer": "ipython2",
   "version": "2.7.14"
  }
 },
 "nbformat": 4,
 "nbformat_minor": 2
}
